{
  "nbformat": 4,
  "nbformat_minor": 0,
  "metadata": {
    "colab": {
      "provenance": []
    },
    "kernelspec": {
      "name": "python3",
      "display_name": "Python 3"
    },
    "language_info": {
      "name": "python"
    }
  },
  "cells": [
    {
      "cell_type": "markdown",
      "source": [
        "FiftyOne is an open-source tool for building high-quality datasets and computer vision models"
      ],
      "metadata": {
        "id": "vAljCeNXeu_h"
      }
    },
    {
      "cell_type": "markdown",
      "source": [
        "Sources:\n",
        "\n",
        "https://docs.voxel51.com/integrations/coco.html\n",
        "\n",
        "https://colab.research.google.com/github/voxel51/fiftyone/blob/v0.23.5/docs/source/tutorials/detectron2.ipynb#scrollTo=FsePPpwZSmqt"
      ],
      "metadata": {
        "id": "sMGjt-EauAWm"
      }
    },
    {
      "cell_type": "code",
      "source": [
        "!pip install fiftyone # install FiftyOne app"
      ],
      "metadata": {
        "id": "ctywd3TLGoS6"
      },
      "execution_count": null,
      "outputs": []
    },
    {
      "cell_type": "code",
      "source": [
        "import fiftyone as fo\n",
        "import fiftyone.zoo as foz"
      ],
      "metadata": {
        "id": "rgWHn5NCG9_D",
        "colab": {
          "base_uri": "https://localhost:8080/"
        },
        "outputId": "f2204d84-3d42-4804-e277-88f85770de01"
      },
      "execution_count": 2,
      "outputs": [
        {
          "output_type": "stream",
          "name": "stdout",
          "text": [
            "Migrating database to v0.23.5\n"
          ]
        },
        {
          "output_type": "stream",
          "name": "stderr",
          "text": [
            "INFO:fiftyone.migrations.runner:Migrating database to v0.23.5\n"
          ]
        }
      ]
    },
    {
      "cell_type": "code",
      "execution_count": 12,
      "metadata": {
        "id": "EPEYzVJIGWkA",
        "colab": {
          "base_uri": "https://localhost:8080/"
        },
        "outputId": "7faa2347-8e9c-495e-f2e0-816eb977cb8d"
      },
      "outputs": [
        {
          "output_type": "stream",
          "name": "stdout",
          "text": [
            "Downloading split 'train' to '/root/fiftyone/coco-2017/train' if necessary\n"
          ]
        },
        {
          "output_type": "stream",
          "name": "stderr",
          "text": [
            "INFO:fiftyone.zoo.datasets:Downloading split 'train' to '/root/fiftyone/coco-2017/train' if necessary\n"
          ]
        },
        {
          "output_type": "stream",
          "name": "stdout",
          "text": [
            "Found annotations at '/root/fiftyone/coco-2017/raw/instances_train2017.json'\n"
          ]
        },
        {
          "output_type": "stream",
          "name": "stderr",
          "text": [
            "INFO:fiftyone.utils.coco:Found annotations at '/root/fiftyone/coco-2017/raw/instances_train2017.json'\n"
          ]
        },
        {
          "output_type": "stream",
          "name": "stdout",
          "text": [
            "Sufficient images already downloaded\n"
          ]
        },
        {
          "output_type": "stream",
          "name": "stderr",
          "text": [
            "INFO:fiftyone.utils.coco:Sufficient images already downloaded\n"
          ]
        },
        {
          "output_type": "stream",
          "name": "stdout",
          "text": [
            "Existing download of split 'train' is sufficient\n"
          ]
        },
        {
          "output_type": "stream",
          "name": "stderr",
          "text": [
            "INFO:fiftyone.zoo.datasets:Existing download of split 'train' is sufficient\n"
          ]
        },
        {
          "output_type": "stream",
          "name": "stdout",
          "text": [
            "Loading existing dataset 'coco-2017-train-500'. To reload from disk, either delete the existing dataset or provide a custom `dataset_name` to use\n"
          ]
        },
        {
          "output_type": "stream",
          "name": "stderr",
          "text": [
            "INFO:fiftyone.zoo.datasets:Loading existing dataset 'coco-2017-train-500'. To reload from disk, either delete the existing dataset or provide a custom `dataset_name` to use\n"
          ]
        }
      ],
      "source": [
        "# load dataset\n",
        "\n",
        "# classes of interest\n",
        "classes = [\"bottle\", \"wine glass\", \"cup\", \"fork\", \"knife\", \"spoon\", \"bowl\"]\n",
        "\n",
        "dataset = foz.load_zoo_dataset(\n",
        "    \"coco-2017\",  # Dataset name or identifier\n",
        "    split=\"train\",  # Specifies the dataset split to load (train, val, test).\n",
        "    classes=classes,  # List of classes to include in the dataset\n",
        "    label_types=[\"detections\"],  # Types of labels to include (e.g., segmentation labels)... by default only detections are loaded\n",
        "    max_samples=500,  # Maximum number of samples to load.\n",
        "    shuffle=True,  # Whether to shuffle the dataset before loading.\n",
        "    seed=42,  # Seed for shuffling the dataset.\n",
        ")"
      ]
    },
    {
      "cell_type": "code",
      "source": [
        "print(dataset)"
      ],
      "metadata": {
        "colab": {
          "base_uri": "https://localhost:8080/"
        },
        "id": "1D2YLU7Be-hN",
        "outputId": "936e11c9-2d3e-406a-e953-d92d8f3859df"
      },
      "execution_count": 13,
      "outputs": [
        {
          "output_type": "stream",
          "name": "stdout",
          "text": [
            "Name:        coco-2017-train-500\n",
            "Media type:  image\n",
            "Num samples: 500\n",
            "Persistent:  False\n",
            "Tags:        []\n",
            "Sample fields:\n",
            "    id:           fiftyone.core.fields.ObjectIdField\n",
            "    filepath:     fiftyone.core.fields.StringField\n",
            "    tags:         fiftyone.core.fields.ListField(fiftyone.core.fields.StringField)\n",
            "    metadata:     fiftyone.core.fields.EmbeddedDocumentField(fiftyone.core.metadata.ImageMetadata)\n",
            "    ground_truth: fiftyone.core.fields.EmbeddedDocumentField(fiftyone.core.labels.Detections)\n"
          ]
        }
      ]
    },
    {
      "cell_type": "code",
      "source": [
        "# Launch the FiftyOne App to explore the dataset visually\n",
        "session = fo.launch_app(dataset)"
      ],
      "metadata": {
        "colab": {
          "base_uri": "https://localhost:8080/",
          "height": 804
        },
        "id": "i5neFdejfIgT",
        "outputId": "7701a130-27e1-4a2b-d0d6-a16261f632e5"
      },
      "execution_count": 14,
      "outputs": [
        {
          "output_type": "display_data",
          "data": {
            "text/plain": [
              "<IPython.core.display.HTML object>"
            ],
            "text/html": [
              "\n",
              "<style>\n",
              "\n",
              "@import url(\"https://fonts.googleapis.com/css2?family=Palanquin&display=swap\");\n",
              "\n",
              "body, html {\n",
              "  margin: 0;\n",
              "  padding: 0;\n",
              "  width: 100%;\n",
              "}\n",
              "\n",
              "#focontainer-a4ac1290-c5a9-48e5-8866-3f72b74fd84c {\n",
              "  position: relative;\n",
              "  height: px;\n",
              "  display: block !important;\n",
              "}\n",
              "#foactivate-a4ac1290-c5a9-48e5-8866-3f72b74fd84c {\n",
              "  font-weight: bold;\n",
              "  cursor: pointer;\n",
              "  font-size: 24px;\n",
              "  border-radius: 3px;\n",
              "  text-align: center;\n",
              "  padding: 0.5em;\n",
              "  color: rgb(255, 255, 255);\n",
              "  font-family: \"Palanquin\", sans-serif;\n",
              "  position: absolute;\n",
              "  left: 50%;\n",
              "  top: 50%;\n",
              "  width: 160px;\n",
              "  margin-left: -80px;\n",
              "  margin-top: -23px;\n",
              "  background: hsla(210,11%,15%, 0.8);\n",
              "  border: none;\n",
              "}\n",
              "#foactivate-a4ac1290-c5a9-48e5-8866-3f72b74fd84c:focus {\n",
              "  outline: none;\n",
              "}\n",
              "#fooverlay-a4ac1290-c5a9-48e5-8866-3f72b74fd84c {\n",
              "  width: 100%;\n",
              "  height: 100%;\n",
              "  background: hsla(208, 7%, 46%, 0.7);\n",
              "  position: absolute;\n",
              "  top: 0;\n",
              "  left: 0;\n",
              "  display: none;\n",
              "  cursor: pointer;\n",
              "}\n",
              "</style>\n",
              "<div id=\"focontainer-a4ac1290-c5a9-48e5-8866-3f72b74fd84c\" style=\"display: none;\">\n",
              "   <div id=\"fooverlay-a4ac1290-c5a9-48e5-8866-3f72b74fd84c\">\n",
              "      <button id=\"foactivate-a4ac1290-c5a9-48e5-8866-3f72b74fd84c\" >Activate</button>\n",
              "   </div>\n",
              "</div>"
            ]
          },
          "metadata": {}
        }
      ]
    },
    {
      "cell_type": "markdown",
      "source": [
        "Specifying a classes when downloading a dataset from the zoo will ensure that only samples with one of the given classes will be present. However, these samples may still contain other labels, so we can use the powerful filtering capability of FiftyOne to easily keep only the labels of interest. We will also untag these samples and create our own split out of them."
      ],
      "metadata": {
        "id": "euJjUXBWbwLn"
      }
    },
    {
      "cell_type": "code",
      "source": [
        "from fiftyone import ViewField as F\n",
        "\n",
        "# Remove other classes that we are not interested in\n",
        "dataset.filter_labels(\"ground_truth\", F(\"label\").is_in(classes)).save()\n",
        "\n",
        "# untag the dataset to allow for a custom split\n",
        "dataset.untag_samples(\"train\")"
      ],
      "metadata": {
        "id": "kb0rbQLgbgUx"
      },
      "execution_count": 15,
      "outputs": []
    },
    {
      "cell_type": "code",
      "source": [
        "## visualize the updated app session\n",
        "## Whenever you open a new App instance in a notebook cell, e.g., by updating your Session object, any previous App instances will be automatically replaced with a static screenshot\n",
        "session.show()"
      ],
      "metadata": {
        "colab": {
          "base_uri": "https://localhost:8080/",
          "height": 804
        },
        "id": "TBAL98AHgXtC",
        "outputId": "bbe6ea74-8ad1-4be6-99be-d83234817e6f"
      },
      "execution_count": 16,
      "outputs": [
        {
          "output_type": "display_data",
          "data": {
            "text/plain": [
              "<IPython.core.display.HTML object>"
            ],
            "text/html": [
              "\n",
              "<style>\n",
              "\n",
              "@import url(\"https://fonts.googleapis.com/css2?family=Palanquin&display=swap\");\n",
              "\n",
              "body, html {\n",
              "  margin: 0;\n",
              "  padding: 0;\n",
              "  width: 100%;\n",
              "}\n",
              "\n",
              "#focontainer-bc5ae499-8a65-4bcf-b884-953ac454c585 {\n",
              "  position: relative;\n",
              "  height: px;\n",
              "  display: block !important;\n",
              "}\n",
              "#foactivate-bc5ae499-8a65-4bcf-b884-953ac454c585 {\n",
              "  font-weight: bold;\n",
              "  cursor: pointer;\n",
              "  font-size: 24px;\n",
              "  border-radius: 3px;\n",
              "  text-align: center;\n",
              "  padding: 0.5em;\n",
              "  color: rgb(255, 255, 255);\n",
              "  font-family: \"Palanquin\", sans-serif;\n",
              "  position: absolute;\n",
              "  left: 50%;\n",
              "  top: 50%;\n",
              "  width: 160px;\n",
              "  margin-left: -80px;\n",
              "  margin-top: -23px;\n",
              "  background: hsla(210,11%,15%, 0.8);\n",
              "  border: none;\n",
              "}\n",
              "#foactivate-bc5ae499-8a65-4bcf-b884-953ac454c585:focus {\n",
              "  outline: none;\n",
              "}\n",
              "#fooverlay-bc5ae499-8a65-4bcf-b884-953ac454c585 {\n",
              "  width: 100%;\n",
              "  height: 100%;\n",
              "  background: hsla(208, 7%, 46%, 0.7);\n",
              "  position: absolute;\n",
              "  top: 0;\n",
              "  left: 0;\n",
              "  display: none;\n",
              "  cursor: pointer;\n",
              "}\n",
              "</style>\n",
              "<div id=\"focontainer-bc5ae499-8a65-4bcf-b884-953ac454c585\" style=\"display: none;\">\n",
              "   <div id=\"fooverlay-bc5ae499-8a65-4bcf-b884-953ac454c585\">\n",
              "      <button id=\"foactivate-bc5ae499-8a65-4bcf-b884-953ac454c585\" >Activate</button>\n",
              "   </div>\n",
              "</div>"
            ]
          },
          "metadata": {}
        }
      ]
    },
    {
      "cell_type": "code",
      "source": [
        "## split the dataset as you wish\n",
        "\n",
        "import fiftyone.utils.random as four\n",
        "\n",
        "four.random_split(dataset, {\"train\": 0.8, \"val\": 0.2})"
      ],
      "metadata": {
        "id": "vHKWGOeSbph5"
      },
      "execution_count": 17,
      "outputs": []
    },
    {
      "cell_type": "code",
      "source": [
        "session.show()"
      ],
      "metadata": {
        "colab": {
          "base_uri": "https://localhost:8080/",
          "height": 804
        },
        "id": "8K-yFP73h5QU",
        "outputId": "b329d1bf-a732-48a9-a3e4-4f1af67e7aef"
      },
      "execution_count": 22,
      "outputs": [
        {
          "output_type": "display_data",
          "data": {
            "text/plain": [
              "<IPython.core.display.HTML object>"
            ],
            "text/html": [
              "\n",
              "<style>\n",
              "\n",
              "@import url(\"https://fonts.googleapis.com/css2?family=Palanquin&display=swap\");\n",
              "\n",
              "body, html {\n",
              "  margin: 0;\n",
              "  padding: 0;\n",
              "  width: 100%;\n",
              "}\n",
              "\n",
              "#focontainer-262fc47b-4a15-4a3d-aa38-4b8e97873b26 {\n",
              "  position: relative;\n",
              "  height: px;\n",
              "  display: block !important;\n",
              "}\n",
              "#foactivate-262fc47b-4a15-4a3d-aa38-4b8e97873b26 {\n",
              "  font-weight: bold;\n",
              "  cursor: pointer;\n",
              "  font-size: 24px;\n",
              "  border-radius: 3px;\n",
              "  text-align: center;\n",
              "  padding: 0.5em;\n",
              "  color: rgb(255, 255, 255);\n",
              "  font-family: \"Palanquin\", sans-serif;\n",
              "  position: absolute;\n",
              "  left: 50%;\n",
              "  top: 50%;\n",
              "  width: 160px;\n",
              "  margin-left: -80px;\n",
              "  margin-top: -23px;\n",
              "  background: hsla(210,11%,15%, 0.8);\n",
              "  border: none;\n",
              "}\n",
              "#foactivate-262fc47b-4a15-4a3d-aa38-4b8e97873b26:focus {\n",
              "  outline: none;\n",
              "}\n",
              "#fooverlay-262fc47b-4a15-4a3d-aa38-4b8e97873b26 {\n",
              "  width: 100%;\n",
              "  height: 100%;\n",
              "  background: hsla(208, 7%, 46%, 0.7);\n",
              "  position: absolute;\n",
              "  top: 0;\n",
              "  left: 0;\n",
              "  display: none;\n",
              "  cursor: pointer;\n",
              "}\n",
              "</style>\n",
              "<div id=\"focontainer-262fc47b-4a15-4a3d-aa38-4b8e97873b26\" style=\"display: none;\">\n",
              "   <div id=\"fooverlay-262fc47b-4a15-4a3d-aa38-4b8e97873b26\">\n",
              "      <button id=\"foactivate-262fc47b-4a15-4a3d-aa38-4b8e97873b26\" >Activate</button>\n",
              "   </div>\n",
              "</div>"
            ]
          },
          "metadata": {}
        }
      ]
    },
    {
      "cell_type": "code",
      "source": [
        "# store the formatted COCO subset\n",
        "\n",
        "# Classes list\n",
        "class_list = dataset.distinct(\"ground_truth.detections.label\")\n",
        "class_list\n",
        "\n",
        "# The directory in which the dataset's images are stored\n",
        "import os\n",
        "IMAGES_DIR = os.path.dirname(dataset.first().filepath)\n",
        "\n",
        "# Export some labels in COCO format\n",
        "dataset.take(5).export(\n",
        "    dataset_type=fo.types.COCODetectionDataset,\n",
        "    label_field=\"ground_truth\",\n",
        "    labels_path=\"/tmp/coco.json\",\n",
        "    classes=class_list,\n",
        ")"
      ],
      "metadata": {
        "colab": {
          "base_uri": "https://localhost:8080/"
        },
        "id": "tzWPWo_NvIc8",
        "outputId": "ff453974-055c-4b8d-ace8-735d9952d98f"
      },
      "execution_count": 10,
      "outputs": [
        {
          "output_type": "stream",
          "name": "stdout",
          "text": [
            " 100% |█████████████████████| 5/5 [526.4ms elapsed, 0s remaining, 9.5 samples/s]      \n"
          ]
        },
        {
          "output_type": "stream",
          "name": "stderr",
          "text": [
            "INFO:eta.core.utils: 100% |█████████████████████| 5/5 [526.4ms elapsed, 0s remaining, 9.5 samples/s]      \n"
          ]
        }
      ]
    },
    {
      "cell_type": "markdown",
      "source": [
        "EXPORTING FIFTYONE DATASETS - https://docs.voxel51.com/user_guide/export_datasets.html"
      ],
      "metadata": {
        "id": "GOu5xQa7XX2g"
      }
    },
    {
      "cell_type": "code",
      "source": [
        "# Mount Google Drive\n",
        "from google.colab import drive\n",
        "drive.mount('/content/drive')"
      ],
      "metadata": {
        "colab": {
          "base_uri": "https://localhost:8080/"
        },
        "id": "h2rfS7j5bJjt",
        "outputId": "f51c9556-7b09-4c02-b92f-4299a98f2e48"
      },
      "execution_count": 20,
      "outputs": [
        {
          "output_type": "stream",
          "name": "stdout",
          "text": [
            "Mounted at /content/drive\n"
          ]
        }
      ]
    },
    {
      "cell_type": "code",
      "source": [
        "# Export the labels in the `ground_truth` field in COCO format, and\n",
        "# move (rather than copy) the source media to the output directory\n",
        "dataset.export(\n",
        "    export_dir=\"/content/drive/My Drive/UofT Grad School/MIE 1517 - Intro to Deep Learning/Course Project/COCO_dataset/\",\n",
        "    dataset_type=fo.types.COCODetectionDataset,\n",
        "    label_field=\"ground_truth\",\n",
        "    export_media=\"move\",\n",
        ")"
      ],
      "metadata": {
        "colab": {
          "base_uri": "https://localhost:8080/"
        },
        "id": "bMRkqoGRZ165",
        "outputId": "f0bce322-18ea-4438-cfeb-3e497eb6c473"
      },
      "execution_count": 21,
      "outputs": [
        {
          "output_type": "stream",
          "name": "stdout",
          "text": [
            "Directory '/content/drive/My Drive/UofT Grad School/MIE 1517 - Intro to Deep Learning/Course Project/COCO_dataset/' already exists; export will be merged with existing files\n"
          ]
        },
        {
          "output_type": "stream",
          "name": "stderr",
          "text": [
            "WARNING:fiftyone.core.collections:Directory '/content/drive/My Drive/UofT Grad School/MIE 1517 - Intro to Deep Learning/Course Project/COCO_dataset/' already exists; export will be merged with existing files\n"
          ]
        },
        {
          "output_type": "stream",
          "name": "stdout",
          "text": [
            " 100% |█████████████████| 500/500 [1.4m elapsed, 0s remaining, 6.2 samples/s]       \n"
          ]
        },
        {
          "output_type": "stream",
          "name": "stderr",
          "text": [
            "INFO:eta.core.utils: 100% |█████████████████| 500/500 [1.4m elapsed, 0s remaining, 6.2 samples/s]       \n"
          ]
        }
      ]
    },
    {
      "cell_type": "markdown",
      "source": [
        "Now we have a /tmp/coco.json file on disk containing COCO labels corresponding to the images in IMAGES_DIR"
      ],
      "metadata": {
        "id": "pvPJA8-Ulk-p"
      }
    },
    {
      "cell_type": "code",
      "source": [
        "!python -m json.tool /tmp/coco.json"
      ],
      "metadata": {
        "id": "iCL2QxhqldGN"
      },
      "execution_count": null,
      "outputs": []
    },
    {
      "cell_type": "markdown",
      "source": [
        "See link below on how you can evaluate your model using FiftyOne test set\n",
        "\n",
        "- https://docs.voxel51.com/user_guide/evaluation.html#evaluating-detections"
      ],
      "metadata": {
        "id": "kyegAfiRmiP7"
      }
    },
    {
      "cell_type": "markdown",
      "source": [
        "Useful image utilities for preprocessing datasets\n",
        "- https://docs.voxel51.com/api/fiftyone.utils.image.html"
      ],
      "metadata": {
        "id": "CkZH5OYdDLKU"
      }
    }
  ]
}